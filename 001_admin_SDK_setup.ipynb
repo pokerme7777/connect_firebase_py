{
 "cells": [
  {
   "cell_type": "code",
   "execution_count": null,
   "id": "faebfbd5",
   "metadata": {},
   "outputs": [],
   "source": []
  },
  {
   "cell_type": "code",
   "execution_count": 1,
   "id": "8d67dcbb",
   "metadata": {},
   "outputs": [],
   "source": [
    "import firebase_admin\n",
    "from firebase_admin import credentials, storage\n",
    "from firebase_admin import db"
   ]
  },
  {
   "cell_type": "code",
   "execution_count": 2,
   "id": "f001083c",
   "metadata": {},
   "outputs": [],
   "source": [
    "cred = credentials.Certificate(\"path/to/serviceAccountKey.json\")\n",
    "firebase_admin.initialize_app(cred)\n"
   ]
  },
  {
   "cell_type": "code",
   "execution_count": null,
   "id": "0797d8f5",
   "metadata": {},
   "outputs": [],
   "source": [
    "firebase_admin.initialize_app(cred, {\n",
    "    'storageBucket': 'your-project-id.appspot.com'  # change projec-id bucket name\n",
    "})\n",
    "\n"
   ]
  },
  {
   "cell_type": "code",
   "execution_count": null,
   "id": "5d482aa5",
   "metadata": {},
   "outputs": [],
   "source": [
    "# Get a reference to the default storage bucket\n",
    "bucket = storage.bucket()"
   ]
  },
  {
   "cell_type": "code",
   "execution_count": null,
   "id": "1fb4e3ce",
   "metadata": {},
   "outputs": [],
   "source": [
    "# Create a reference to the file in the storage bucket (e.g., \"example.txt\" at the root)\n",
    "blob = bucket.blob('example.txt')"
   ]
  },
  {
   "cell_type": "code",
   "execution_count": null,
   "id": "29f7e4b9",
   "metadata": {},
   "outputs": [],
   "source": [
    "# Download the file from the bucket and save it locally as \"local_example.txt\"\n",
    "blob.download_to_filename('local_example.txt')\n",
    "\n",
    "print(\"File downloaded successfully!\")"
   ]
  }
 ],
 "metadata": {
  "kernelspec": {
   "display_name": "Python 3 (ipykernel)",
   "language": "python",
   "name": "python3"
  },
  "language_info": {
   "codemirror_mode": {
    "name": "ipython",
    "version": 3
   },
   "file_extension": ".py",
   "mimetype": "text/x-python",
   "name": "python",
   "nbconvert_exporter": "python",
   "pygments_lexer": "ipython3",
   "version": "3.13.1"
  }
 },
 "nbformat": 4,
 "nbformat_minor": 5
}
