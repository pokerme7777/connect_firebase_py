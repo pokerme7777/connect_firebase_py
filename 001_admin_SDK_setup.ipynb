{
 "cells": [
  {
   "cell_type": "code",
   "execution_count": 31,
   "id": "8d67dcbb",
   "metadata": {},
   "outputs": [],
   "source": [
    "import firebase_admin\n",
    "from firebase_admin import credentials, storage\n",
    "import os\n",
    "from tqdm import tqdm"
   ]
  },
  {
   "cell_type": "code",
   "execution_count": 5,
   "id": "f001083c",
   "metadata": {},
   "outputs": [],
   "source": [
    "cred = credentials.Certificate(\"path/to/serviceAccountKey.json\")\n"
   ]
  },
  {
   "cell_type": "code",
   "execution_count": 6,
   "id": "0797d8f5",
   "metadata": {},
   "outputs": [
    {
     "data": {
      "text/plain": [
       "<firebase_admin.App at 0x7f06573ec830>"
      ]
     },
     "execution_count": 6,
     "metadata": {},
     "output_type": "execute_result"
    }
   ],
   "source": [
    "firebase_admin.initialize_app(cred, {\n",
    "    'storageBucket': 'safety-inspection-6d506.firebasestorage.app'  # change projec-id bucket name\n",
    "})\n",
    "\n"
   ]
  },
  {
   "cell_type": "code",
   "execution_count": 7,
   "id": "5d482aa5",
   "metadata": {},
   "outputs": [],
   "source": [
    "# Get a reference to the default storage bucket\n",
    "bucket = storage.bucket()"
   ]
  },
  {
   "cell_type": "code",
   "execution_count": 43,
   "id": "f10f5af8",
   "metadata": {},
   "outputs": [],
   "source": [
    "def get_path_name (blob, ds_path):\n",
    "    \"\"\"\n",
    "    Function for getting path name,\n",
    "    \"\"\"    \n",
    "    # Original relative path\n",
    "    relative_path = blob.name\n",
    "\n",
    "    # Replace illegal characters (Windows does not allow \":\" in folder names)\n",
    "    safe_path = relative_path.replace(\":\", \"_\")\n",
    "    safe_path = safe_path.replace(\" \", \"_\")\n",
    "\n",
    "    # Convert to an absolute path\n",
    "    absolute_path = os.path.join(ds_path,safe_path)  # ds_path: 'path/to/dataset/folder'\n",
    "    return absolute_path"
   ]
  },
  {
   "cell_type": "code",
   "execution_count": 47,
   "id": "56354906",
   "metadata": {},
   "outputs": [],
   "source": [
    "def download_data(roof_name, local_dataset_folder):\n",
    "    blobs = bucket.list_blobs(prefix=f'{roof_name}/')\n",
    "    for blob in tqdm(blobs):\n",
    "        \n",
    "        # Get the local absolute path for the current blob\n",
    "        local_absolute_path = get_path_name(blob, local_dataset_folder)\n",
    "\n",
    "        # Extract the directory part from the local file path\n",
    "        local_dir = os.path.dirname(local_absolute_path)\n",
    "\n",
    "        # If the directory does not exist, create it (handles nested directories)\n",
    "        if not os.path.exists(local_dir):\n",
    "            os.makedirs(local_dir)\n",
    "            print(f\"Created folder: {local_dir}\")\n",
    "        \n",
    "        # Download the blob to the specified local path\n",
    "        blob.download_to_filename(local_absolute_path)\n",
    "\n",
    "        print(f\"filename : {blob.name}\")\n",
    "        print(f\"localname : {local_absolute_path}\")\n",
    "    print(\"File downloaded successfully!\")"
   ]
  },
  {
   "cell_type": "code",
   "execution_count": 48,
   "id": "d362d0a7",
   "metadata": {},
   "outputs": [
    {
     "name": "stderr",
     "output_type": "stream",
     "text": [
      "0it [00:00, ?it/s]"
     ]
    },
    {
     "name": "stdout",
     "output_type": "stream",
     "text": [
      "Created folder: /home/mai/fke/fkee/firebase_key/inspectionCases/2025-01-23_19_02/Lap\n"
     ]
    },
    {
     "name": "stderr",
     "output_type": "stream",
     "text": [
      "1it [00:01,  1.91s/it]"
     ]
    },
    {
     "name": "stdout",
     "output_type": "stream",
     "text": [
      "filename : inspectionCases/2025-01-23 19:02/Lap/Photo.jpg\n",
      "localname : /home/mai/fke/fkee/firebase_key/inspectionCases/2025-01-23_19_02/Lap/Photo.jpg\n"
     ]
    },
    {
     "name": "stderr",
     "output_type": "stream",
     "text": [
      "2it [00:02,  1.01it/s]"
     ]
    },
    {
     "name": "stdout",
     "output_type": "stream",
     "text": [
      "filename : inspectionCases/2025-01-23 19:02/Lap/PhotoDescription_1.txt\n",
      "localname : /home/mai/fke/fkee/firebase_key/inspectionCases/2025-01-23_19_02/Lap/PhotoDescription_1.txt\n"
     ]
    },
    {
     "name": "stderr",
     "output_type": "stream",
     "text": [
      "3it [00:02,  1.15it/s]"
     ]
    },
    {
     "name": "stdout",
     "output_type": "stream",
     "text": [
      "filename : inspectionCases/2025-01-23 19:02/Lap/PhotoDescription_2.txt\n",
      "localname : /home/mai/fke/fkee/firebase_key/inspectionCases/2025-01-23_19_02/Lap/PhotoDescription_2.txt\n",
      "Created folder: /home/mai/fke/fkee/firebase_key/inspectionCases/2025-01-23_19_02/Table\n"
     ]
    },
    {
     "name": "stderr",
     "output_type": "stream",
     "text": [
      "4it [00:04,  1.02it/s]"
     ]
    },
    {
     "name": "stdout",
     "output_type": "stream",
     "text": [
      "filename : inspectionCases/2025-01-23 19:02/Table/Photo.jpg\n",
      "localname : /home/mai/fke/fkee/firebase_key/inspectionCases/2025-01-23_19_02/Table/Photo.jpg\n"
     ]
    },
    {
     "name": "stderr",
     "output_type": "stream",
     "text": [
      "5it [00:04,  1.33it/s]"
     ]
    },
    {
     "name": "stdout",
     "output_type": "stream",
     "text": [
      "filename : inspectionCases/2025-01-23 19:02/Table/PhotoDescription_1.txt\n",
      "localname : /home/mai/fke/fkee/firebase_key/inspectionCases/2025-01-23_19_02/Table/PhotoDescription_1.txt\n",
      "Created folder: /home/mai/fke/fkee/firebase_key/inspectionCases/2025-01-30_20_14\n"
     ]
    },
    {
     "name": "stderr",
     "output_type": "stream",
     "text": [
      "6it [00:05,  1.00it/s]"
     ]
    },
    {
     "name": "stdout",
     "output_type": "stream",
     "text": [
      "filename : inspectionCases/2025-01-30 20:14/Photo.jpg\n",
      "localname : /home/mai/fke/fkee/firebase_key/inspectionCases/2025-01-30_20_14/Photo.jpg\n"
     ]
    },
    {
     "name": "stderr",
     "output_type": "stream",
     "text": [
      "7it [00:06,  1.28it/s]"
     ]
    },
    {
     "name": "stdout",
     "output_type": "stream",
     "text": [
      "filename : inspectionCases/2025-01-30 20:14/PhotoDescription_1.txt\n",
      "localname : /home/mai/fke/fkee/firebase_key/inspectionCases/2025-01-30_20_14/PhotoDescription_1.txt\n",
      "Created folder: /home/mai/fke/fkee/firebase_key/inspectionCases/2025-01-30_20_15\n"
     ]
    },
    {
     "name": "stderr",
     "output_type": "stream",
     "text": [
      "8it [00:07,  1.01s/it]"
     ]
    },
    {
     "name": "stdout",
     "output_type": "stream",
     "text": [
      "filename : inspectionCases/2025-01-30 20:15/Photo.jpg\n",
      "localname : /home/mai/fke/fkee/firebase_key/inspectionCases/2025-01-30_20_15/Photo.jpg\n"
     ]
    },
    {
     "name": "stderr",
     "output_type": "stream",
     "text": [
      "9it [00:08,  1.11it/s]"
     ]
    },
    {
     "name": "stdout",
     "output_type": "stream",
     "text": [
      "filename : inspectionCases/2025-01-30 20:15/PhotoDescription_1.txt\n",
      "localname : /home/mai/fke/fkee/firebase_key/inspectionCases/2025-01-30_20_15/PhotoDescription_1.txt\n",
      "File downloaded successfully!\n"
     ]
    },
    {
     "name": "stderr",
     "output_type": "stream",
     "text": [
      "\n"
     ]
    }
   ],
   "source": [
    "download_data('inspectionCases', '/home/mai/fke/fkee/firebase_key')"
   ]
  }
 ],
 "metadata": {
  "kernelspec": {
   "display_name": "Python 3 (ipykernel)",
   "language": "python",
   "name": "python3"
  },
  "language_info": {
   "codemirror_mode": {
    "name": "ipython",
    "version": 3
   },
   "file_extension": ".py",
   "mimetype": "text/x-python",
   "name": "python",
   "nbconvert_exporter": "python",
   "pygments_lexer": "ipython3",
   "version": "3.13.1"
  }
 },
 "nbformat": 4,
 "nbformat_minor": 5
}
